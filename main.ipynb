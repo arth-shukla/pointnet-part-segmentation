{
 "cells": [
  {
   "attachments": {},
   "cell_type": "markdown",
   "metadata": {},
   "source": [
    "# PointNet Part Segmentation"
   ]
  },
  {
   "attachments": {},
   "cell_type": "markdown",
   "metadata": {},
   "source": [
    "## Imports"
   ]
  },
  {
   "cell_type": "code",
   "execution_count": 1,
   "metadata": {},
   "outputs": [],
   "source": [
    "import numpy as np\n",
    "\n",
    "import torch\n",
    "from torch.utils.data import Dataset, DataLoader\n",
    "from torchvision import transforms, utils\n",
    "\n",
    "import open3d as o3d\n",
    "\n",
    "from pathlib import Path\n",
    "import os"
   ]
  },
  {
   "cell_type": "code",
   "execution_count": 2,
   "metadata": {},
   "outputs": [],
   "source": [
    "if (torch.cuda.is_available()):\n",
    "    print(torch.cuda.device_count(), torch.cuda.current_device())"
   ]
  },
  {
   "attachments": {},
   "cell_type": "markdown",
   "metadata": {},
   "source": [
    "## Visualizing Data"
   ]
  },
  {
   "cell_type": "code",
   "execution_count": 3,
   "metadata": {},
   "outputs": [],
   "source": [
    "def visualize(pts, labels=None):\n",
    "\n",
    "    is_labeled = False\n",
    "    if type(labels) != type(None):\n",
    "        is_labeled = True\n",
    "\n",
    "    try:\n",
    "        pts = pts.numpy()\n",
    "        labels = labels.numpy()\n",
    "        print('Tensor converted to numpy')\n",
    "    except:\n",
    "        print('Passed numpy')\n",
    "\n",
    "    # red, green, blue, purple\n",
    "    colors = np.array([[255,0,0],[0,255,0],[0,0,255],[100,0,100]])\n",
    "    if is_labeled: labels = colors[labels-1]\n",
    "\n",
    "    pcd = o3d.geometry.PointCloud()\n",
    "    pcd.points = o3d.utility.Vector3dVector(pts)\n",
    "    if is_labeled: pcd.colors = o3d.utility.Vector3dVector(labels)\n",
    "\n",
    "    o3d.visualization.draw_geometries([pcd])"
   ]
  },
  {
   "cell_type": "code",
   "execution_count": 4,
   "metadata": {},
   "outputs": [
    {
     "name": "stdout",
     "output_type": "stream",
     "text": [
      "(2704, 3) (2704,)\n"
     ]
    }
   ],
   "source": [
    "eg_pts_hash = '1d1b37ce6d72d7855096c0dd2594842a'\n",
    "eg_pts_path = f'data/train/pts/{eg_pts_hash}.pts'\n",
    "eg_labels_path = f'data/train/label/{eg_pts_hash}.txt'\n",
    "\n",
    "ex_pc = np.loadtxt(eg_pts_path, delimiter=' ')\n",
    "ex_labels = np.loadtxt(eg_labels_path, delimiter=' ', dtype=np.int8)\n",
    "\n",
    "print(ex_pc.shape, ex_labels.shape)"
   ]
  },
  {
   "cell_type": "code",
   "execution_count": 5,
   "metadata": {},
   "outputs": [],
   "source": [
    "# Uncomment to run, requires system GUI\n",
    "# visualize(torch.from_numpy(ex_pc), torch.from_numpy(ex_labels))"
   ]
  },
  {
   "attachments": {},
   "cell_type": "markdown",
   "metadata": {},
   "source": [
    "## Custom Dataset + Make DataLoaders"
   ]
  },
  {
   "cell_type": "code",
   "execution_count": 6,
   "metadata": {},
   "outputs": [],
   "source": [
    "class ChairCloudDataset(Dataset):\n",
    "    def __init__(self, root: str, train: bool=True, transform=torch.from_numpy, target_transform=torch.from_numpy):\n",
    "        self.train = train\n",
    "\n",
    "        self.transform = transform\n",
    "        self.target_transform = target_transform\n",
    "\n",
    "        root = Path(root)\n",
    "        pts_dir = None\n",
    "        labels_dir = None\n",
    "        if self.train:\n",
    "            pts_dir = root / Path('pts')\n",
    "            labels_dir = root / Path('label')\n",
    "        else:\n",
    "            pts_dir = Path(root)\n",
    "\n",
    "        self.pts_paths = []\n",
    "        self.label_paths = []\n",
    "        for pts_file in os.listdir(pts_dir):\n",
    "            self.pts_paths.append(pts_dir / pts_file)\n",
    "\n",
    "            if self.train:\n",
    "                self.label_paths.append(labels_dir / (Path(pts_file).stem + '.txt'))\n",
    "\n",
    "        dataset_type = 'train' if self.train else 'test'\n",
    "        print(f'Found {len(self.pts_paths)} {dataset_type} datapoints')\n",
    "\n",
    "    def __getitem__(self, index):\n",
    "        pts_file = self.pts_paths[index]\n",
    "        pts = np.loadtxt(pts_file, delimiter=' ')\n",
    "        pts = self.transform(pts)\n",
    "\n",
    "        if self.train:\n",
    "            label_file = self.label_paths[index]\n",
    "            seg = np.loadtxt(label_file, delimiter=' ', dtype=np.uint8)\n",
    "            seg = self.target_transform(seg)\n",
    "\n",
    "            return pts.float(), seg\n",
    "        \n",
    "        return pts.float()\n",
    "\n",
    "    def __len__(self):\n",
    "        return len(self.pts_paths)\n",
    "            \n",
    "\n"
   ]
  },
  {
   "cell_type": "code",
   "execution_count": 7,
   "metadata": {},
   "outputs": [
    {
     "name": "stdout",
     "output_type": "stream",
     "text": [
      "Found 1000 train datapoints\n",
      "Found 6 test datapoints\n"
     ]
    }
   ],
   "source": [
    "train_data = ChairCloudDataset('data/train', train=True)\n",
    "test_data = ChairCloudDataset('data/test', train=False)"
   ]
  },
  {
   "cell_type": "code",
   "execution_count": 8,
   "metadata": {},
   "outputs": [],
   "source": [
    "# Uncomment to visualize\n",
    "# visualize(*train_data[0])"
   ]
  },
  {
   "cell_type": "code",
   "execution_count": 9,
   "metadata": {},
   "outputs": [],
   "source": [
    "from torch.nn.utils.rnn import pad_sequence\n",
    "\n",
    "def pad_test(batch):\n",
    "    return pad_sequence(batch, batch_first=True, padding_value=0)\n",
    "\n",
    "def pad_train(batch):\n",
    "    pts, seg = zip(*batch)\n",
    "    \n",
    "    pts_padded = pad_sequence(pts, batch_first=True, padding_value=0.0)\n",
    "    seg_padded = pad_sequence(seg, batch_first=True, padding_value=0)\n",
    "\n",
    "    return pts_padded, seg_padded"
   ]
  },
  {
   "cell_type": "code",
   "execution_count": 10,
   "metadata": {},
   "outputs": [],
   "source": [
    "train_dl = DataLoader(train_data, batch_size=64, shuffle=True, collate_fn=pad_train)\n",
    "test_dl = DataLoader(test_data, batch_size=64, shuffle=True, collate_fn=pad_test)"
   ]
  },
  {
   "attachments": {},
   "cell_type": "markdown",
   "metadata": {},
   "source": [
    "## Building PointNet Model"
   ]
  },
  {
   "attachments": {},
   "cell_type": "markdown",
   "metadata": {},
   "source": [
    "First, we must construct the input and feature transform steps. This consistes of a T-Net with $k$-long input, following by a matmul.\n",
    "\n",
    "We will begin by implementing the T-Nets for general $k$-long input (we will later use once with nx3 input for input transform, then once for nx64 input for feature transform).\n",
    "\n",
    "<img src='./imgs/annotated-tnet.jpg'>"
   ]
  },
  {
   "cell_type": "code",
   "execution_count": 11,
   "metadata": {},
   "outputs": [],
   "source": [
    "\n",
    "import torch\n",
    "import torch.nn as nn\n",
    "import numpy as np\n",
    "import torch.nn.functional as F\n",
    "\n",
    "class TNet(nn.Module):\n",
    "    def __init__(self, k: int):\n",
    "        super().__init__()\n",
    "\n",
    "        self.k = k\n",
    "\n",
    "        # 1st convolution + \"mlp\"\n",
    "        self.conv1 = nn.Conv1d(k, 64, 1)\n",
    "        self.batchnorm1 = nn.BatchNorm1d(64)\n",
    "        # relu called directly\n",
    "\n",
    "        # 2nd convolution + \"mlp\"\n",
    "        self.conv2 = nn.Conv1d(64, 128, 1)\n",
    "        self.batchnorm2 = nn.BatchNorm1d(128)\n",
    "        # relu called directly\n",
    "\n",
    "        # 3rd convolution + \"mlp\"\n",
    "        self.conv3 = nn.Conv1d(128, 1024, 1)\n",
    "        self.batchnorm3 = nn.BatchNorm1d(1024)\n",
    "        # relu called directly\n",
    "\n",
    "        # max pool called directly\n",
    "\n",
    "        # 1st fully connected layer after max pool\n",
    "        self.fc1 = nn.Linear(1024, 512)\n",
    "        self.batchnorm4 = nn.BatchNorm1d(512)\n",
    "        # relu called directly\n",
    "\n",
    "        # 2nd fully connected layer after max pool\n",
    "        self.fc2 = nn.Linear(512, 256)\n",
    "        self.batchnorm5 = nn.BatchNorm1d(256)\n",
    "        # relu called directly\n",
    "\n",
    "        # generate final output tensor (will be reshaped into kxk matrix)\n",
    "        self.fc3 = nn.Linear(256, self.k * self.k)\n",
    "\n",
    "    def forward(self, input):\n",
    "        batch_size = input.size(0)\n",
    "\n",
    "        # 1st convolution\n",
    "        x = F.relu(self.batchnorm1(self.conv1(input)))\n",
    "        # 2nd convolution\n",
    "        x = F.relu(self.batchnorm2(self.conv2(x)))\n",
    "        # 3rd convolution\n",
    "        x = F.relu(self.batchnorm3(self.conv3(x)))\n",
    "\n",
    "\n",
    "        # max pool\n",
    "        x = nn.MaxPool1d(x.size(-1))(x)\n",
    "        x = nn.Flatten(1)(x)\n",
    "\n",
    "        # 1st fully connected layer after max pool\n",
    "        x = F.relu(self.batchnorm4(self.fc1(x)))\n",
    "        # 2nd fully connected layer after max pool\n",
    "        x = F.relu(self.batchnorm5(self.fc2(x)))\n",
    "\n",
    "        # final fc before reshaping to output matrix\n",
    "        x = self.fc3(x)\n",
    "\n",
    "        # init matrix to identity for orthogonality\n",
    "        matrix = torch.eye(self.k, requires_grad=True).flatten().repeat(batch_size, 1)\n",
    "        if matrix.is_cuda:\n",
    "            matrix = matrix.cuda()\n",
    "        # add to last fc layer\n",
    "        matrix = x + matrix\n",
    "        # reshape to batch_size x 3 x 3\n",
    "        matrix = matrix.view(batch_size, self.k, self.k)\n",
    "        \n",
    "        return matrix"
   ]
  },
  {
   "attachments": {},
   "cell_type": "markdown",
   "metadata": {},
   "source": [
    "Now we can take the TNet and place it in the greater PointNet, completing the transformations as well"
   ]
  },
  {
   "cell_type": "code",
   "execution_count": 12,
   "metadata": {},
   "outputs": [],
   "source": [
    "class PointNet(nn.Module):\n",
    "    def __init__(self, num_parts = 4):\n",
    "        super().__init__()\n",
    "\n",
    "        self.num_parts = num_parts\n",
    "\n",
    "        # Input Transform TNet\n",
    "        self.input_tnet = TNet(3)\n",
    "\n",
    "        # 1st shared mlp between input and feature transform steps\n",
    "        self.conv1 = nn.Conv1d(3, 64, 1)\n",
    "        self.batchnorm1 = nn.BatchNorm1d(64)\n",
    "        # relu called directly\n",
    "\n",
    "        # Feature Trasformation TNet\n",
    "        self.feature_tnet = TNet(64)\n",
    "\n",
    "        # 2nd shared mlp, 1st convolution\n",
    "        self.conv2 = nn.Conv1d(64, 128, 1)\n",
    "        self.batchnorm2 = nn.BatchNorm1d(128)\n",
    "        # relu called directly\n",
    "\n",
    "        # 2nd shared mlp, 2nd convolution\n",
    "        self.conv3 = nn.Conv1d(128, 1024, 1)\n",
    "        self.batchnorm3 = nn.BatchNorm1d(1024)\n",
    "        # relu called directly\n",
    "\n",
    "\n",
    "        # segmentation network, shared mlp, convolution 1\n",
    "        self.conv4 = nn.Conv1d(1088, 512, 1)\n",
    "        self.batchnorm4 = nn.BatchNorm1d(512)\n",
    "        # relu called directly\n",
    "\n",
    "        # segmentation network, shared mlp, convolution 2\n",
    "        self.conv5 = nn.Conv1d(512, 256, 1)\n",
    "        self.batchnorm5 = nn.BatchNorm1d(256)\n",
    "        # relu called directly\n",
    "\n",
    "        # segmentation network, shared mlp, convolution 3\n",
    "        self.conv6 = nn.Conv1d(256, 128, 1)\n",
    "        self.batchnorm6 = nn.BatchNorm1d(128)\n",
    "        # relu called directly\n",
    "\n",
    "        # segmentation network, shared mlp, convolution 4\n",
    "        self.conv7 = nn.Conv1d(128, num_parts, 1)\n",
    "        self.batchnorm7 = nn.BatchNorm1d(num_parts)\n",
    "        # relu called directly\n",
    "\n",
    "        self.logsoftmax = nn.LogSoftmax(dim=1)\n",
    "\n",
    "    def forward(self, input):\n",
    "        num_pts = input.size(-1)\n",
    "\n",
    "        # input transformation\n",
    "        mat3x3 = self.input_tnet(input)\n",
    "\n",
    "        x = input.transpose(2, 1)       # align dims\n",
    "        x = torch.bmm(x, mat3x3)\n",
    "        x = x.transpose(2, 1)           # put channels back in correct spot\n",
    "\n",
    "        # 1st shared mlp between input and feature transform steps\n",
    "        x = F.relu(self.batchnorm1(self.conv1(x)))\n",
    "\n",
    "        # feature transformation\n",
    "        mat64x64 = self.feature_tnet(x)\n",
    "        x = x.transpose(2, 1)\n",
    "        x = torch.bmm(x, mat64x64)\n",
    "        x = x.transpose(2, 1)\n",
    "\n",
    "        # save for segmentation network later\n",
    "        feature_matrix = x\n",
    "\n",
    "        # 2nd shared mlp convolutions\n",
    "        x = F.relu(self.batchnorm2(self.conv2(x)))\n",
    "        x = F.relu(self.batchnorm3(self.conv3(x)))\n",
    "\n",
    "        # Max Pool for symmmetric func / perm invariance\n",
    "        global_features = nn.MaxPool1d(x.size(-1))(x)\n",
    "\n",
    "        # combine feature transformed matrix with vstacked global feature matrix\n",
    "        global_repeated = global_features.repeat(1, 1, num_pts)\n",
    "        # begin segmentation network section\n",
    "        seg_x = torch.hstack((feature_matrix, global_repeated))\n",
    "\n",
    "        # segmentation network, shared mlp convolutions\n",
    "        seg_x = F.relu(self.batchnorm4(self.conv4(seg_x)))\n",
    "        seg_x = F.relu(self.batchnorm5(self.conv5(seg_x)))\n",
    "        seg_x = F.relu(self.batchnorm6(self.conv6(seg_x)))\n",
    "        seg_x = F.relu(self.batchnorm7(self.conv7(seg_x)))\n",
    "\n",
    "        return self.logsoftmax(seg_x), mat64x64\n",
    "        "
   ]
  },
  {
   "attachments": {},
   "cell_type": "markdown",
   "metadata": {},
   "source": [
    "## Training Functions"
   ]
  },
  {
   "cell_type": "code",
   "execution_count": 13,
   "metadata": {},
   "outputs": [],
   "source": [
    "def train(train_dl, alpha, epochs):\n",
    "\n",
    "    NUM_PARTS = 5\n",
    "\n",
    "    # Paper defines regularization as || I - A A^T || ^2\n",
    "    def loss_reg(mat64x64): \n",
    "        I = torch.eye(64).repeat(64, 1, 1)\n",
    "        if mat64x64.is_cuda:\n",
    "            I.cuda()\n",
    "        matT = mat64x64.transpose(2, 1)\n",
    "        bmmMat = torch.bmm(mat64x64, matT)\n",
    "        print(I.shape, mat64x64.shape, matT.shape, bmmMat.shape)\n",
    "        return torch.mean(torch.norm(I - bmmMat, dim=(1, 2)))\n",
    "    \n",
    "    def train_step(train_dl, pnet, epoch, alpha=0.001):\n",
    "\n",
    "        batch = 1\n",
    "        total_batches = len(train_dl)\n",
    "        for pts, label in iter(train_dl):\n",
    "                \n",
    "            pts = pts.transpose(2, 1)\n",
    "\n",
    "            if torch.cuda.is_available():\n",
    "                pts, label = pts.cuda(), label.cuda()\n",
    "                pnet.cuda()\n",
    "\n",
    "            optimizer.zero_grad()\n",
    "            pnet = pnet.train()\n",
    "\n",
    "            pred, mat64x64 = pnet(pts)\n",
    "\n",
    "            pred = pred.view(-1, NUM_PARTS)\n",
    "            label = label.view(-1, 1)\n",
    "\n",
    "            loss = F.nll_loss(pred, torch.flatten(label)) + alpha * loss_reg(mat64x64)\n",
    "            loss.backward()\n",
    "\n",
    "            optimizer.step()\n",
    "\n",
    "            correct = pred.data.max(1)[1].eq(label.data).sum()\n",
    "\n",
    "            print(f'Epoch {epoch+1}, batch {batch} / {total_batches}:', f'Accuracy: {correct.item()/label.size(0)}', f'Loss: {loss}')\n",
    "\n",
    "    device = torch.device(\"cuda:0\" if torch.cuda.is_available() else \"cpu\")\n",
    "    print(f'Training on {device} for {epochs} epochs')\n",
    "\n",
    "    # we'll set num_parts to 5 so that the padded points are classified as 0,\n",
    "    # which is not included in the labels and thus won't affect the actual model\n",
    "    pnet = PointNet(num_parts=NUM_PARTS)\n",
    "    pnet.to(device)\n",
    "    optimizer = torch.optim.Adam(pnet.parameters(), lr=0.001)\n",
    "\n",
    "    for epoch in range(epochs):\n",
    "        train_step(train_dl, pnet, epoch)\n",
    "    \n"
   ]
  },
  {
   "cell_type": "code",
   "execution_count": 14,
   "metadata": {},
   "outputs": [
    {
     "name": "stdout",
     "output_type": "stream",
     "text": [
      "Training on cpu for 10 epochs\n",
      "1\n",
      "torch.Size([64, 64, 64]) torch.Size([64, 64, 64]) torch.Size([64, 64, 64]) torch.Size([64, 64, 64])\n",
      "2\n",
      "3\n"
     ]
    },
    {
     "ename": "",
     "evalue": "",
     "output_type": "error",
     "traceback": [
      "\u001b[1;31mCanceled future for execute_request message before replies were done"
     ]
    },
    {
     "ename": "",
     "evalue": "",
     "output_type": "error",
     "traceback": [
      "\u001b[1;31mThe Kernel crashed while executing code in the the current cell or a previous cell. Please review the code in the cell(s) to identify a possible cause of the failure. Click <a href='https://aka.ms/vscodeJupyterKernelCrash'>here</a> for more info. View Jupyter <a href='command:jupyter.viewOutput'>log</a> for further details."
     ]
    }
   ],
   "source": [
    "train(train_dl, 0.001, 10)"
   ]
  },
  {
   "cell_type": "code",
   "execution_count": null,
   "metadata": {},
   "outputs": [],
   "source": []
  },
  {
   "cell_type": "code",
   "execution_count": null,
   "metadata": {},
   "outputs": [],
   "source": []
  }
 ],
 "metadata": {
  "kernelspec": {
   "display_name": "pnet-part-seg",
   "language": "python",
   "name": "python3"
  },
  "language_info": {
   "codemirror_mode": {
    "name": "ipython",
    "version": 3
   },
   "file_extension": ".py",
   "mimetype": "text/x-python",
   "name": "python",
   "nbconvert_exporter": "python",
   "pygments_lexer": "ipython3",
   "version": "3.9.16"
  },
  "orig_nbformat": 4
 },
 "nbformat": 4,
 "nbformat_minor": 2
}
