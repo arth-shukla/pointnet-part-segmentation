{
 "cells": [
  {
   "attachments": {},
   "cell_type": "markdown",
   "metadata": {},
   "source": [
    "# PointNet Part Segmentation"
   ]
  },
  {
   "attachments": {},
   "cell_type": "markdown",
   "metadata": {},
   "source": [
    "## Imports"
   ]
  },
  {
   "cell_type": "code",
   "execution_count": 14,
   "metadata": {},
   "outputs": [],
   "source": [
    "import numpy as np\n",
    "\n",
    "import torch\n",
    "from torch.utils.data import Dataset, DataLoader\n",
    "from torchvision import transforms, utils\n",
    "\n",
    "import open3d as o3d\n",
    "\n",
    "from pathlib import Path\n",
    "import os"
   ]
  },
  {
   "cell_type": "code",
   "execution_count": 15,
   "metadata": {},
   "outputs": [],
   "source": [
    "if (torch.cuda.is_available()):\n",
    "    print(torch.cuda.device_count(), torch.cuda.current_device())"
   ]
  },
  {
   "attachments": {},
   "cell_type": "markdown",
   "metadata": {},
   "source": [
    "## Visualizing Data"
   ]
  },
  {
   "cell_type": "code",
   "execution_count": 46,
   "metadata": {},
   "outputs": [
    {
     "name": "stdout",
     "output_type": "stream",
     "text": [
      "(2704, 3) (2704,)\n"
     ]
    }
   ],
   "source": [
    "eg_pts_hash = '1d1b37ce6d72d7855096c0dd2594842a'\n",
    "eg_pts_path = f'data/train/pts/{eg_pts_hash}.pts'\n",
    "eg_labels_path = f'data/train/label/{eg_pts_hash}.txt'\n",
    "\n",
    "ex_pc = np.loadtxt(eg_pts_path, delimiter=' ')\n",
    "ex_labels = np.loadtxt(eg_labels_path, delimiter=' ', dtype=np.int8)\n",
    "\n",
    "print(ex_pc.shape, ex_labels.shape)"
   ]
  },
  {
   "cell_type": "code",
   "execution_count": 72,
   "metadata": {},
   "outputs": [
    {
     "name": "stdout",
     "output_type": "stream",
     "text": [
      "tensor([[ 0.2174, -0.1176, -0.0927],\n",
      "        [ 0.2398, -0.2393,  0.1549],\n",
      "        [-0.1579, -0.3512, -0.1093],\n",
      "        ...,\n",
      "        [-0.0696, -0.2838, -0.0418],\n",
      "        [ 0.0372, -0.2923,  0.1277],\n",
      "        [ 0.0550, -0.3040,  0.1593]], dtype=torch.float64) tensor([3, 3, 3,  ..., 3, 3, 3], dtype=torch.int8)\n",
      "True [[ 0.21737 -0.11761 -0.09266]\n",
      " [ 0.23978 -0.23933  0.15489]\n",
      " [-0.15789 -0.3512  -0.10932]\n",
      " ...\n",
      " [-0.06959 -0.28383 -0.04181]\n",
      " [ 0.03722 -0.29234  0.12771]\n",
      " [ 0.05504 -0.30405  0.15925]] [3 3 3 ... 3 3 3]\n",
      "\u001b[1;33m[Open3D WARNING] GLFW Error: Cocoa: Failed to find service port for display\u001b[0;m\n"
     ]
    }
   ],
   "source": [
    "# Uncomment to run, requires system GUI\n",
    "visualize(torch.from_numpy(ex_pc), torch.from_numpy(ex_labels))"
   ]
  },
  {
   "attachments": {},
   "cell_type": "markdown",
   "metadata": {},
   "source": [
    "## Building the PointNet"
   ]
  },
  {
   "cell_type": "code",
   "execution_count": 94,
   "metadata": {},
   "outputs": [],
   "source": [
    "class ChairCloudDataset(Dataset):\n",
    "    def __init__(self, root, train=True, transform=torch.from_numpy, target_transform=torch.from_numpy):\n",
    "        self.train = train\n",
    "\n",
    "        self.transform = transform\n",
    "        self.target_transform = target_transform\n",
    "\n",
    "        root = Path(root)\n",
    "        pts_dir = None\n",
    "        labels_dir = None\n",
    "        if self.train:\n",
    "            pts_dir = root / Path('pts')\n",
    "            labels_dir = root / Path('label')\n",
    "        else:\n",
    "            pts_dir = Path(root)\n",
    "\n",
    "        self.pts_paths = []\n",
    "        self.label_paths = []\n",
    "        for pts_file in os.listdir(pts_dir):\n",
    "            self.pts_paths.append(pts_dir / pts_file)\n",
    "\n",
    "            if self.train:\n",
    "                self.label_paths.append(labels_dir / (Path(pts_file).stem + '.txt'))\n",
    "\n",
    "        dataset_type = 'train' if self.train else 'test'\n",
    "        print(f'Found {len(self.pts_paths)} {dataset_type} datapoints')\n",
    "\n",
    "    def __getitem__(self, index):\n",
    "        pts_file = self.pts_paths[index]\n",
    "        pts = np.loadtxt(pts_file, delimiter=' ')\n",
    "        pts = self.transform(pts)\n",
    "\n",
    "        if self.train:\n",
    "            label_file = self.label_paths[index]\n",
    "            seg = np.loadtxt(label_file, delimiter=' ', dtype=np.uint8)\n",
    "            seg = self.target_transform(seg)\n",
    "\n",
    "            return pts, seg\n",
    "        \n",
    "        return pts\n",
    "\n",
    "    def __len__(self):\n",
    "        return len(self.pts_paths)\n",
    "            \n",
    "\n"
   ]
  },
  {
   "cell_type": "code",
   "execution_count": 95,
   "metadata": {},
   "outputs": [
    {
     "name": "stdout",
     "output_type": "stream",
     "text": [
      "Found 1000 train datapoints\n",
      "Found 6 test datapoints\n"
     ]
    }
   ],
   "source": [
    "train_dataset = ChairCloudDataset('data/train', train=True)\n",
    "test_dataset = ChairCloudDataset('data/test', train=False)"
   ]
  },
  {
   "cell_type": "code",
   "execution_count": 96,
   "metadata": {},
   "outputs": [
    {
     "name": "stdout",
     "output_type": "stream",
     "text": [
      "train first datapoint: (tensor([[ 0.2444, -0.1462, -0.1531],\n",
      "        [ 0.1605, -0.1110,  0.1341],\n",
      "        [-0.0194, -0.1618, -0.1123],\n",
      "        ...,\n",
      "        [-0.0416, -0.1171, -0.0834],\n",
      "        [-0.0768, -0.0417, -0.0886],\n",
      "        [ 0.1969,  0.0032,  0.1800]], dtype=torch.float64), tensor([3, 4, 4,  ..., 2, 2, 3], dtype=torch.uint8))\n",
      "test first datapoint: tensor([[ 0.2209, -0.3227, -0.2592],\n",
      "        [-0.1419,  0.0443,  0.2039],\n",
      "        [-0.0833,  0.0780, -0.1899],\n",
      "        ...,\n",
      "        [ 0.1731, -0.2647,  0.2755],\n",
      "        [-0.0665, -0.1003,  0.1920],\n",
      "        [-0.0629, -0.0916, -0.1633]], dtype=torch.float64)\n"
     ]
    }
   ],
   "source": [
    "print('train first datapoint:', train_dataset[0])\n",
    "print('test first datapoint:', test_dataset[0])"
   ]
  },
  {
   "attachments": {},
   "cell_type": "markdown",
   "metadata": {},
   "source": []
  },
  {
   "cell_type": "code",
   "execution_count": 99,
   "metadata": {},
   "outputs": [],
   "source": [
    "def visualize(pts, labels=None):\n",
    "\n",
    "    is_labeled = False\n",
    "    if type(labels) != type(None):\n",
    "        is_labeled = True\n",
    "\n",
    "    try:\n",
    "        pts = pts.numpy()\n",
    "        labels = labels.numpy()\n",
    "        print('Tensor converted to numpy')\n",
    "    except:\n",
    "        print('Passed numpy')\n",
    "\n",
    "    # red, green, blue, purple\n",
    "    colors = np.array([[255,0,0],[0,255,0],[0,0,255],[100,0,100]])\n",
    "    if is_labeled: labels = colors[labels-1]\n",
    "\n",
    "    print(pts.shape, labels.shape)\n",
    "\n",
    "    pcd = o3d.geometry.PointCloud()\n",
    "    pcd.points = o3d.utility.Vector3dVector(pts)\n",
    "    if is_labeled: pcd.colors = o3d.utility.Vector3dVector(labels)\n",
    "\n",
    "    o3d.visualization.draw_geometries([pcd])"
   ]
  },
  {
   "cell_type": "code",
   "execution_count": 100,
   "metadata": {},
   "outputs": [
    {
     "name": "stdout",
     "output_type": "stream",
     "text": [
      "<class 'numpy.ndarray'>\n",
      "(2736, 3) (2736, 3)\n",
      "\u001b[1;33m[Open3D WARNING] GLFW Error: Cocoa: Failed to find service port for display\u001b[0;m\n"
     ]
    }
   ],
   "source": [
    "# Uncomment to visualize\n",
    "pts, seg = train_dataset[0]\n",
    "visualize(pts, seg)"
   ]
  },
  {
   "cell_type": "code",
   "execution_count": null,
   "metadata": {},
   "outputs": [],
   "source": []
  }
 ],
 "metadata": {
  "kernelspec": {
   "display_name": "pnet-part-seg",
   "language": "python",
   "name": "python3"
  },
  "language_info": {
   "codemirror_mode": {
    "name": "ipython",
    "version": 3
   },
   "file_extension": ".py",
   "mimetype": "text/x-python",
   "name": "python",
   "nbconvert_exporter": "python",
   "pygments_lexer": "ipython3",
   "version": "3.9.16"
  },
  "orig_nbformat": 4
 },
 "nbformat": 4,
 "nbformat_minor": 2
}
