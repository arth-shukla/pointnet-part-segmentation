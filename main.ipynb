{
  "cells": [
    {
      "attachments": {},
      "cell_type": "markdown",
      "metadata": {
        "id": "BjZyfHCNBKZ_"
      },
      "source": [
        "# PointNet Part Segmentation"
      ]
    },
    {
      "attachments": {},
      "cell_type": "markdown",
      "metadata": {
        "id": "EjtRM9GWBKaB"
      },
      "source": [
        "## Imports"
      ]
    },
    {
      "cell_type": "code",
      "execution_count": 114,
      "metadata": {
        "id": "pwS82CeXBKaB"
      },
      "outputs": [],
      "source": [
        "import numpy as np\n",
        "\n",
        "import torch\n",
        "from torch.utils.data import Dataset, DataLoader\n",
        "from torchvision import transforms, utils\n",
        "\n",
        "# import open3d as o3d\n",
        "\n",
        "from pathlib import Path\n",
        "import os"
      ]
    },
    {
      "cell_type": "code",
      "execution_count": 115,
      "metadata": {
        "id": "_TNuTOueBKaC"
      },
      "outputs": [],
      "source": [
        "if (torch.cuda.is_available()):\n",
        "    print(torch.cuda.device_count(), torch.cuda.current_device())"
      ]
    },
    {
      "attachments": {},
      "cell_type": "markdown",
      "metadata": {
        "id": "WFpGE1srBKaC"
      },
      "source": [
        "## Visualizing Data"
      ]
    },
    {
      "cell_type": "code",
      "execution_count": 116,
      "metadata": {
        "id": "7zOJIM8aBKaC"
      },
      "outputs": [],
      "source": [
        "# def visualize(pts, labels=None):\n",
        "\n",
        "#     is_labeled = False\n",
        "#     if type(labels) != type(None):\n",
        "#         is_labeled = True\n",
        "\n",
        "#     try:\n",
        "#         pts = pts.numpy()\n",
        "#         labels = labels.numpy()\n",
        "#         print('Tensor converted to numpy')\n",
        "#     except:\n",
        "#         print('Passed numpy')\n",
        "\n",
        "#     # red, green, blue, purple\n",
        "#     colors = np.array([[255,0,0],[0,255,0],[0,0,255],[100,0,100]])\n",
        "#     if is_labeled: labels = colors[labels-1]\n",
        "\n",
        "#     pcd = o3d.geometry.PointCloud()\n",
        "#     pcd.points = o3d.utility.Vector3dVector(pts)\n",
        "#     if is_labeled: pcd.colors = o3d.utility.Vector3dVector(labels)\n",
        "\n",
        "#     o3d.visualization.draw_geometries([pcd])"
      ]
    },
    {
      "cell_type": "code",
      "execution_count": 117,
      "metadata": {
        "colab": {
          "base_uri": "https://localhost:8080/"
        },
        "id": "1YY1KPUdBKaD",
        "outputId": "02e88793-7e91-4010-8f78-2ad5b1dde9c9"
      },
      "outputs": [
        {
          "name": "stdout",
          "output_type": "stream",
          "text": [
            "(2704, 3) (2704,)\n"
          ]
        }
      ],
      "source": [
        "eg_pts_hash = '1d1b37ce6d72d7855096c0dd2594842a'\n",
        "eg_pts_path = f'data/train/pts/{eg_pts_hash}.pts'\n",
        "eg_labels_path = f'data/train/label/{eg_pts_hash}.txt'\n",
        "\n",
        "ex_pc = np.loadtxt(eg_pts_path, delimiter=' ')\n",
        "ex_labels = np.loadtxt(eg_labels_path, delimiter=' ', dtype=np.int8)\n",
        "\n",
        "print(ex_pc.shape, ex_labels.shape)"
      ]
    },
    {
      "cell_type": "code",
      "execution_count": 118,
      "metadata": {
        "id": "hM1WT_rDBKaD"
      },
      "outputs": [],
      "source": [
        "# Uncomment to run, requires system GUI\n",
        "# visualize(torch.from_numpy(ex_pc), torch.from_numpy(ex_labels))"
      ]
    },
    {
      "attachments": {},
      "cell_type": "markdown",
      "metadata": {
        "id": "-NDPHD3fBKaD"
      },
      "source": [
        "## Custom Dataset + Make DataLoaders"
      ]
    },
    {
      "cell_type": "code",
      "execution_count": 119,
      "metadata": {
        "id": "JacLzn6MBKaE"
      },
      "outputs": [],
      "source": [
        "class ChairCloudDataset(Dataset):\n",
        "    def __init__(self, root: str, train: bool=True, transform=torch.from_numpy, target_transform=torch.from_numpy):\n",
        "        self.train = train\n",
        "\n",
        "        self.transform = transform\n",
        "        self.target_transform = target_transform\n",
        "\n",
        "        root = Path(root)\n",
        "        pts_dir = None\n",
        "        labels_dir = None\n",
        "        if self.train:\n",
        "            pts_dir = root / Path('pts')\n",
        "            labels_dir = root / Path('label')\n",
        "        else:\n",
        "            pts_dir = Path(root)\n",
        "\n",
        "        self.pts_paths = []\n",
        "        self.label_paths = []\n",
        "        for pts_file in os.listdir(pts_dir):\n",
        "            self.pts_paths.append(pts_dir / pts_file)\n",
        "\n",
        "            if self.train:\n",
        "                self.label_paths.append(labels_dir / (Path(pts_file).stem + '.txt'))\n",
        "\n",
        "        dataset_type = 'train' if self.train else 'test'\n",
        "        print(f'Found {len(self.pts_paths)} {dataset_type} datapoints')\n",
        "\n",
        "    def __getitem__(self, index):\n",
        "        pts_file = self.pts_paths[index]\n",
        "        pts = np.loadtxt(pts_file, delimiter=' ')\n",
        "        pts = self.transform(pts)\n",
        "\n",
        "        if self.train:\n",
        "            label_file = self.label_paths[index]\n",
        "            seg = np.loadtxt(label_file, delimiter=' ', dtype=np.uint8)\n",
        "            seg = self.target_transform(seg)\n",
        "\n",
        "            return pts.float(), seg\n",
        "        \n",
        "        return pts.float()\n",
        "\n",
        "    def __len__(self):\n",
        "        return len(self.pts_paths)\n",
        "            \n",
        "\n"
      ]
    },
    {
      "cell_type": "code",
      "execution_count": 120,
      "metadata": {
        "colab": {
          "base_uri": "https://localhost:8080/"
        },
        "id": "scT2BooTBKaE",
        "outputId": "8476df6f-8434-4c1e-db9d-28dd064e6872"
      },
      "outputs": [
        {
          "name": "stdout",
          "output_type": "stream",
          "text": [
            "Found 1000 train datapoints\n",
            "Found 6 test datapoints\n"
          ]
        }
      ],
      "source": [
        "train_data = ChairCloudDataset('data/train', train=True)\n",
        "test_data = ChairCloudDataset('data/test', train=False)"
      ]
    },
    {
      "cell_type": "code",
      "execution_count": 121,
      "metadata": {
        "id": "FFWTYVAYBKaE"
      },
      "outputs": [],
      "source": [
        "# Uncomment to visualize\n",
        "# visualize(*train_data[0])"
      ]
    },
    {
      "cell_type": "code",
      "execution_count": 122,
      "metadata": {
        "id": "R6HhMEnyBKaE"
      },
      "outputs": [],
      "source": [
        "from torch.nn.utils.rnn import pad_sequence\n",
        "\n",
        "def pad_test(batch):\n",
        "    return pad_sequence(batch, batch_first=True, padding_value=0)\n",
        "\n",
        "def pad_train(batch):\n",
        "    pts, seg = zip(*batch)\n",
        "    \n",
        "    pts_padded = pad_sequence(pts, batch_first=True, padding_value=0.0)\n",
        "    seg_padded = pad_sequence(seg, batch_first=True, padding_value=0)\n",
        "\n",
        "    return pts_padded, seg_padded"
      ]
    },
    {
      "cell_type": "code",
      "execution_count": 123,
      "metadata": {
        "id": "-cSKARncBKaF"
      },
      "outputs": [],
      "source": [
        "# train_dl = DataLoader(train_data, batch_size=32, shuffle=True, collate_fn=pad_train, num_workers=2)\n",
        "# test_dl = DataLoader(test_data, batch_size=32, shuffle=True, collate_fn=pad_test, num_workers=2)"
      ]
    },
    {
      "attachments": {},
      "cell_type": "markdown",
      "metadata": {
        "id": "ftzpTKQCBKaF"
      },
      "source": [
        "## Building PointNet Model"
      ]
    },
    {
      "attachments": {},
      "cell_type": "markdown",
      "metadata": {
        "id": "YIcShRtZBKaF"
      },
      "source": [
        "First, we must construct the input and feature transform steps. This consistes of a T-Net with $k$-long input, following by a matmul.\n",
        "\n",
        "We will begin by implementing the T-Nets for general $k$-long input (we will later use once with nx3 input for input transform, then once for nx64 input for feature transform).\n",
        "\n",
        "<img src='./imgs/annotated-tnet.jpg'>"
      ]
    },
    {
      "cell_type": "code",
      "execution_count": 124,
      "metadata": {
        "id": "RNuyWCSYBKaF"
      },
      "outputs": [],
      "source": [
        "\n",
        "import torch\n",
        "import torch.nn as nn\n",
        "import numpy as np\n",
        "import torch.nn.functional as F\n",
        "\n",
        "class TNet(nn.Module):\n",
        "    def __init__(self, k: int):\n",
        "        super().__init__()\n",
        "\n",
        "        self.k = k\n",
        "\n",
        "        # 1st convolution + \"mlp\"\n",
        "        self.conv1 = nn.Conv1d(k, 64, 1)\n",
        "        self.batchnorm1 = nn.BatchNorm1d(64)\n",
        "        # relu called directly\n",
        "\n",
        "        # 2nd convolution + \"mlp\"\n",
        "        self.conv2 = nn.Conv1d(64, 128, 1)\n",
        "        self.batchnorm2 = nn.BatchNorm1d(128)\n",
        "        # relu called directly\n",
        "\n",
        "        # 3rd convolution + \"mlp\"\n",
        "        self.conv3 = nn.Conv1d(128, 1024, 1)\n",
        "        self.batchnorm3 = nn.BatchNorm1d(1024)\n",
        "        # relu called directly\n",
        "\n",
        "        # max pool called directly\n",
        "\n",
        "        # 1st fully connected layer after max pool\n",
        "        self.fc1 = nn.Linear(1024, 512)\n",
        "        self.batchnorm4 = nn.BatchNorm1d(512)\n",
        "        # relu called directly\n",
        "\n",
        "        # 2nd fully connected layer after max pool\n",
        "        self.fc2 = nn.Linear(512, 256)\n",
        "        self.batchnorm5 = nn.BatchNorm1d(256)\n",
        "        # relu called directly\n",
        "\n",
        "        # generate final output tensor for matmul\n",
        "        self.fc3 = nn.Linear(256, self.k * self.k)\n",
        "\n",
        "    def forward(self, input):\n",
        "        batch_size = input.size(0)\n",
        "\n",
        "        # 1st convolution\n",
        "        x = F.relu(self.batchnorm1(self.conv1(input)))\n",
        "        # 2nd convolution\n",
        "        x = F.relu(self.batchnorm2(self.conv2(x)))\n",
        "        # 3rd convolution\n",
        "        x = F.relu(self.batchnorm3(self.conv3(x)))\n",
        "\n",
        "        # max pool\n",
        "        x = nn.MaxPool1d(x.size(-1))(x)\n",
        "        x = nn.Flatten(1)(x)\n",
        "\n",
        "        # 1st fully connected layer after max pool\n",
        "        x = F.relu(self.batchnorm4(self.fc1(x)))\n",
        "        # 2nd fully connected layer after max pool\n",
        "        x = F.relu(self.batchnorm5(self.fc2(x)))\n",
        "\n",
        "        # final fc before reshaping to output matrix\n",
        "        x = self.fc3(x)\n",
        "\n",
        "        # init matrix to identity for orthogonality\n",
        "        matrix = torch.eye(self.k, requires_grad=True).flatten().repeat(batch_size, 1)\n",
        "        if matrix.is_cuda:\n",
        "            matrix = matrix.cuda()\n",
        "        # add to last fc layer\n",
        "        matrix = x + matrix\n",
        "        # reshape to batch_size x 3 x 3\n",
        "        matrix = matrix.view(batch_size, self.k, self.k)\n",
        "        \n",
        "        return matrix"
      ]
    },
    {
      "attachments": {},
      "cell_type": "markdown",
      "metadata": {
        "id": "mHG121n8BKaG"
      },
      "source": [
        "Now we can take the TNet and place it in the greater PointNet, completing the transformations as well"
      ]
    },
    {
      "cell_type": "code",
      "execution_count": 125,
      "metadata": {
        "id": "ice7jrKTBKaG"
      },
      "outputs": [],
      "source": [
        "class PointNet(nn.Module):\n",
        "    def __init__(self, num_classes = 5):\n",
        "        super().__init__()\n",
        "\n",
        "        self.num_classes = num_classes\n",
        "\n",
        "        # Input Transform TNet\n",
        "        self.input_tnet = TNet(3)\n",
        "\n",
        "        # 1st shared mlp between input and feature transform steps\n",
        "        self.conv1 = nn.Conv1d(3, 64, 1)\n",
        "        self.batchnorm1 = nn.BatchNorm1d(64)\n",
        "        # relu called directly\n",
        "\n",
        "        # Feature Trasformation TNet\n",
        "        self.feature_tnet = TNet(64)\n",
        "\n",
        "        # 2nd shared mlp, 1st convolution\n",
        "        self.conv2 = nn.Conv1d(64, 128, 1)\n",
        "        self.batchnorm2 = nn.BatchNorm1d(128)\n",
        "        # relu called directly\n",
        "\n",
        "        # 2nd shared mlp, 2nd convolution\n",
        "        self.conv3 = nn.Conv1d(128, 1024, 1)\n",
        "        self.batchnorm3 = nn.BatchNorm1d(1024)\n",
        "        # relu called directly\n",
        "\n",
        "\n",
        "        # segmentation network, shared mlp, convolution 1\n",
        "        self.conv4 = nn.Conv1d(1088, 512, 1)\n",
        "        self.batchnorm4 = nn.BatchNorm1d(512)\n",
        "        # relu called directly\n",
        "\n",
        "        # segmentation network, shared mlp, convolution 2\n",
        "        self.conv5 = nn.Conv1d(512, 256, 1)\n",
        "        self.batchnorm5 = nn.BatchNorm1d(256)\n",
        "        # relu called directly\n",
        "\n",
        "        # segmentation network, shared mlp, convolution 3\n",
        "        self.conv6 = nn.Conv1d(256, 128, 1)\n",
        "        self.batchnorm6 = nn.BatchNorm1d(128)\n",
        "        # relu called directly\n",
        "\n",
        "        # segmentation network, shared mlp, convolution 4\n",
        "        self.conv7 = nn.Conv1d(128, self.num_classes, 1)\n",
        "        # no relu or batchnorm bc this will be the output (after logsoftmax)\n",
        "\n",
        "        self.logsoftmax = nn.LogSoftmax(dim=1)\n",
        "\n",
        "    def forward(self, input):\n",
        "        num_pts = input.size(-1)\n",
        "\n",
        "        # input transformation\n",
        "        mat3x3 = self.input_tnet(input)\n",
        "\n",
        "        x = input.transpose(2, 1)       # align dims\n",
        "        x = torch.bmm(x, mat3x3)\n",
        "        x = x.transpose(2, 1)           # put channels back in correct spot\n",
        "\n",
        "        # 1st shared mlp between input and feature transform steps\n",
        "        x = F.relu(self.batchnorm1(self.conv1(x)))\n",
        "\n",
        "        # feature transformation\n",
        "        mat64x64 = self.feature_tnet(x)\n",
        "        x = x.transpose(2, 1)\n",
        "        x = torch.bmm(x, mat64x64)\n",
        "        x = x.transpose(2, 1)\n",
        "\n",
        "        # save for segmentation network later\n",
        "        feature_matrix = x\n",
        "\n",
        "        # 2nd shared mlp convolutions\n",
        "        x = F.relu(self.batchnorm2(self.conv2(x)))\n",
        "        x = F.relu(self.batchnorm3(self.conv3(x)))\n",
        "\n",
        "        # Max Pool for symmmetric func / perm invariance\n",
        "        x = nn.MaxPool1d(x.size(-1))(x)\n",
        "        # repeat to later join with feature matrix\n",
        "        x = x.repeat(1, 1, num_pts)\n",
        "        # begin segmentation network section\n",
        "        seg_x = torch.cat((feature_matrix, x), 1)\n",
        "\n",
        "        # segmentation network, shared mlp convolutions\n",
        "        seg_x = F.relu(self.batchnorm4(self.conv4(seg_x)))\n",
        "        seg_x = F.relu(self.batchnorm5(self.conv5(seg_x)))\n",
        "        seg_x = F.relu(self.batchnorm6(self.conv6(seg_x)))\n",
        "\n",
        "        # this is our pointwise class pred\n",
        "        seg_x = self.conv7(seg_x)\n",
        "        seg_x = seg_x.transpose(2,1)\n",
        "        seg_x = self.logsoftmax(seg_x)\n",
        "\n",
        "        return seg_x, mat64x64\n",
        "        "
      ]
    },
    {
      "attachments": {},
      "cell_type": "markdown",
      "metadata": {
        "id": "WbYBkpPYBKaG"
      },
      "source": [
        "## Training Functions"
      ]
    },
    {
      "cell_type": "code",
      "execution_count": 126,
      "metadata": {},
      "outputs": [],
      "source": [
        "def train_step(pnet, train_dl, optimizer, epoch = 0, reg_strength = 0.001, num_classes=5):\n",
        "\n",
        "    # paper descrived regularization of form ||I - AA^T||^2, where A is the feature transformed matrix (64x64)\n",
        "    def regularize(m64):\n",
        "        I2 = torch.flatten(torch.eye(10), start_dim=1)\n",
        "        if m64.is_cuda:\n",
        "            I = I.cuda()\n",
        "        loss = torch.mean(torch.norm(I - torch.bmm(m64, m64.transpose(2,1)), dim=(1,2)) ** 2)\n",
        "        return loss\n",
        "\n",
        "    # train in batches\n",
        "    batch = 0\n",
        "    for data in iter(train_dl):\n",
        "        batch += 1\n",
        "\n",
        "        # prep data\n",
        "        pts, label = data\n",
        "        pts = pts.transpose(2, 1)\n",
        "        if torch.cuda.is_available():\n",
        "            points, label = points.cuda(), label.cuda()\n",
        "\n",
        "        # zero out grads and get model ready to train\n",
        "        optimizer.zero_grad()\n",
        "        pnet = pnet.train()\n",
        "\n",
        "        # get predictions\n",
        "        pred, m64 = pnet(pts)\n",
        "        pred = pred.view(-1, num_classes)\n",
        "        label = torch.flatten(label)\n",
        "\n",
        "        # calc loss\n",
        "        loss = F.nll_loss(pred, label) + reg_strength * regularize(m64)\n",
        "        loss.backward()\n",
        "\n",
        "        # descent step\n",
        "        optimizer.step()\n",
        "\n",
        "        # calc accuracy of pred\n",
        "        pred_choice = pred.data.max(1)[1]\n",
        "        correct = pred_choice.eq(label).cpu().sum()\n",
        "        accuracy = correct.item()/label.size(0)\n",
        "\n",
        "        print(f'epoch: {epoch}\\tbatch: {batch}/{len(train_dl)}\\taccuracy: {accuracy}\\tloss: {loss.item()}')\n",
        "\n",
        "def train(train_dl, max_epochs=100, acc_req=0.9, lr=0.001, reg_strength=0.001, num_classes=5):\n",
        "\n",
        "    # get device\n",
        "    device = torch.device(\"cuda:0\" if torch.cuda.is_available() else \"cpu\")\n",
        "\n",
        "    # init pointnet\n",
        "    pnet = PointNet(num_classes=num_classes)\n",
        "    pnet.to(device)\n",
        "    if torch.cuda.is_available():\n",
        "        pnet.cuda()\n",
        "\n",
        "    # using adam for faster convergence\n",
        "    optimizer = torch.optim.Adam(pnet.parameters(), lr=lr)\n",
        "\n",
        "    # run train loop\n",
        "    for epoch in range(max_epochs):\n",
        "\n",
        "        # train in batches\n",
        "        epoch_accuracy = train_step(pnet, train_dl, optimizer, epoch=epoch, reg_strength=reg_strength, num_classes=num_classes)\n",
        "\n",
        "        # break if req accuracy reached already\n",
        "        if (epoch_accuracy > acc_req):\n",
        "            break"
      ]
    },
    {
      "cell_type": "code",
      "execution_count": 127,
      "metadata": {
        "id": "Emrmzu2vHz4x"
      },
      "outputs": [],
      "source": [
        "BATCH_SIZE = 32     # 64 blew up my laptop :(\n",
        "MAX_EPOCHS = 100    # absolute max, if we reach 100 i've messed up greatly\n",
        "ACC_REQ = 0.9       # should be good enough\n",
        "LR = 0.001\n",
        "REG_STRENGTH = 0.001"
      ]
    },
    {
      "cell_type": "code",
      "execution_count": 128,
      "metadata": {
        "id": "vOcC5pBTHy0_"
      },
      "outputs": [],
      "source": [
        "train_dl = DataLoader(train_data, batch_size=BATCH_SIZE, shuffle=True, collate_fn=pad_train)\n",
        "test_dl = DataLoader(test_data, batch_size=BATCH_SIZE, shuffle=True, collate_fn=pad_test)"
      ]
    },
    {
      "cell_type": "code",
      "execution_count": 129,
      "metadata": {},
      "outputs": [
        {
          "name": "stdout",
          "output_type": "stream",
          "text": [
            "epoch: 0\tbatch: 1/32\taccuracy: 0.21553050281293953\tloss: 8.10023307800293\n",
            "epoch: 0\tbatch: 2/32\taccuracy: 0.413625845496618\tloss: 8.013431549072266\n",
            "epoch: 0\tbatch: 3/32\taccuracy: 0.5695557414582599\tloss: 7.887115955352783\n",
            "epoch: 0\tbatch: 4/32\taccuracy: 0.6088152173913044\tloss: 7.77882194519043\n",
            "epoch: 0\tbatch: 5/32\taccuracy: 0.6258943965517242\tloss: 7.712094783782959\n",
            "epoch: 0\tbatch: 6/32\taccuracy: 0.6615980063514467\tloss: 7.64022970199585\n",
            "epoch: 0\tbatch: 7/32\taccuracy: 0.6980481072555205\tloss: 7.603155612945557\n",
            "epoch: 0\tbatch: 8/32\taccuracy: 0.7146908555594043\tloss: 7.570329189300537\n",
            "epoch: 0\tbatch: 9/32\taccuracy: 0.7311794781382228\tloss: 7.511545181274414\n",
            "epoch: 0\tbatch: 10/32\taccuracy: 0.6751543209876543\tloss: 7.523986339569092\n",
            "epoch: 0\tbatch: 11/32\taccuracy: 0.705314595834804\tloss: 7.464018821716309\n",
            "epoch: 0\tbatch: 12/32\taccuracy: 0.7341193990042674\tloss: 7.405744552612305\n",
            "epoch: 0\tbatch: 13/32\taccuracy: 0.744890143557423\tloss: 7.3918776512146\n",
            "epoch: 0\tbatch: 14/32\taccuracy: 0.7237948919107392\tloss: 7.383824348449707\n",
            "epoch: 0\tbatch: 15/32\taccuracy: 0.7357004310344828\tloss: 7.365823268890381\n",
            "epoch: 0\tbatch: 16/32\taccuracy: 0.7144152512384997\tloss: 7.34593391418457\n",
            "epoch: 0\tbatch: 17/32\taccuracy: 0.7114138051857043\tloss: 7.341370105743408\n",
            "epoch: 0\tbatch: 18/32\taccuracy: 0.7236304347826087\tloss: 7.306436061859131\n",
            "epoch: 0\tbatch: 19/32\taccuracy: 0.7085956628191675\tloss: 7.356807708740234\n"
          ]
        },
        {
          "ename": "KeyboardInterrupt",
          "evalue": "",
          "output_type": "error",
          "traceback": [
            "\u001b[0;31m---------------------------------------------------------------------------\u001b[0m",
            "\u001b[0;31mKeyboardInterrupt\u001b[0m                         Traceback (most recent call last)",
            "Cell \u001b[0;32mIn[129], line 1\u001b[0m\n\u001b[0;32m----> 1\u001b[0m train(train_dl, max_epochs\u001b[39m=\u001b[39;49mMAX_EPOCHS, acc_req\u001b[39m=\u001b[39;49mACC_REQ, lr\u001b[39m=\u001b[39;49mLR, reg_strength\u001b[39m=\u001b[39;49mREG_STRENGTH)\n",
            "Cell \u001b[0;32mIn[126], line 50\u001b[0m, in \u001b[0;36mtrain\u001b[0;34m(train_dl, max_epochs, acc_req, lr, reg_strength, num_classes)\u001b[0m\n\u001b[1;32m     46\u001b[0m     pnet\u001b[39m.\u001b[39mcuda()\n\u001b[1;32m     48\u001b[0m \u001b[39mfor\u001b[39;00m epoch \u001b[39min\u001b[39;00m \u001b[39mrange\u001b[39m(max_epochs):\n\u001b[0;32m---> 50\u001b[0m     epoch_accuracy \u001b[39m=\u001b[39m train_step(pnet, train_dl, optimizer, epoch\u001b[39m=\u001b[39;49mepoch, reg_strength\u001b[39m=\u001b[39;49mreg_strength, num_classes\u001b[39m=\u001b[39;49mnum_classes)\n\u001b[1;32m     52\u001b[0m     torch\u001b[39m.\u001b[39msave(pnet\u001b[39m.\u001b[39mstate_dict(), \u001b[39mf\u001b[39m\u001b[39m'\u001b[39m\u001b[39mmodel_states/seg_model_\u001b[39m\u001b[39m{\u001b[39;00mepoch\u001b[39m}\u001b[39;00m\u001b[39m.pth\u001b[39m\u001b[39m'\u001b[39m)\n\u001b[1;32m     54\u001b[0m     \u001b[39mif\u001b[39;00m (epoch_accuracy \u001b[39m>\u001b[39m acc_req):\n",
            "Cell \u001b[0;32mIn[126], line 24\u001b[0m, in \u001b[0;36mtrain_step\u001b[0;34m(pnet, train_dl, optimizer, epoch, reg_strength, num_classes)\u001b[0m\n\u001b[1;32m     20\u001b[0m optimizer\u001b[39m.\u001b[39mzero_grad()\n\u001b[1;32m     22\u001b[0m pnet \u001b[39m=\u001b[39m pnet\u001b[39m.\u001b[39mtrain()\n\u001b[0;32m---> 24\u001b[0m pred, m64 \u001b[39m=\u001b[39m pnet(pts)\n\u001b[1;32m     25\u001b[0m pred \u001b[39m=\u001b[39m pred\u001b[39m.\u001b[39mview(\u001b[39m-\u001b[39m\u001b[39m1\u001b[39m, num_classes)\n\u001b[1;32m     26\u001b[0m label \u001b[39m=\u001b[39m torch\u001b[39m.\u001b[39mflatten(label)\n",
            "File \u001b[0;32m~/opt/anaconda3/envs/pnet-part-seg/lib/python3.9/site-packages/torch/nn/modules/module.py:1501\u001b[0m, in \u001b[0;36mModule._call_impl\u001b[0;34m(self, *args, **kwargs)\u001b[0m\n\u001b[1;32m   1496\u001b[0m \u001b[39m# If we don't have any hooks, we want to skip the rest of the logic in\u001b[39;00m\n\u001b[1;32m   1497\u001b[0m \u001b[39m# this function, and just call forward.\u001b[39;00m\n\u001b[1;32m   1498\u001b[0m \u001b[39mif\u001b[39;00m \u001b[39mnot\u001b[39;00m (\u001b[39mself\u001b[39m\u001b[39m.\u001b[39m_backward_hooks \u001b[39mor\u001b[39;00m \u001b[39mself\u001b[39m\u001b[39m.\u001b[39m_backward_pre_hooks \u001b[39mor\u001b[39;00m \u001b[39mself\u001b[39m\u001b[39m.\u001b[39m_forward_hooks \u001b[39mor\u001b[39;00m \u001b[39mself\u001b[39m\u001b[39m.\u001b[39m_forward_pre_hooks\n\u001b[1;32m   1499\u001b[0m         \u001b[39mor\u001b[39;00m _global_backward_pre_hooks \u001b[39mor\u001b[39;00m _global_backward_hooks\n\u001b[1;32m   1500\u001b[0m         \u001b[39mor\u001b[39;00m _global_forward_hooks \u001b[39mor\u001b[39;00m _global_forward_pre_hooks):\n\u001b[0;32m-> 1501\u001b[0m     \u001b[39mreturn\u001b[39;00m forward_call(\u001b[39m*\u001b[39;49margs, \u001b[39m*\u001b[39;49m\u001b[39m*\u001b[39;49mkwargs)\n\u001b[1;32m   1502\u001b[0m \u001b[39m# Do not call functions when jit is used\u001b[39;00m\n\u001b[1;32m   1503\u001b[0m full_backward_hooks, non_full_backward_hooks \u001b[39m=\u001b[39m [], []\n",
            "Cell \u001b[0;32mIn[125], line 84\u001b[0m, in \u001b[0;36mPointNet.forward\u001b[0;34m(self, input)\u001b[0m\n\u001b[1;32m     81\u001b[0m seg_x \u001b[39m=\u001b[39m torch\u001b[39m.\u001b[39mcat((feature_matrix, x), \u001b[39m1\u001b[39m)\n\u001b[1;32m     83\u001b[0m \u001b[39m# segmentation network, shared mlp convolutions\u001b[39;00m\n\u001b[0;32m---> 84\u001b[0m seg_x \u001b[39m=\u001b[39m F\u001b[39m.\u001b[39mrelu(\u001b[39mself\u001b[39m\u001b[39m.\u001b[39mbatchnorm4(\u001b[39mself\u001b[39;49m\u001b[39m.\u001b[39;49mconv4(seg_x)))\n\u001b[1;32m     85\u001b[0m seg_x \u001b[39m=\u001b[39m F\u001b[39m.\u001b[39mrelu(\u001b[39mself\u001b[39m\u001b[39m.\u001b[39mbatchnorm5(\u001b[39mself\u001b[39m\u001b[39m.\u001b[39mconv5(seg_x)))\n\u001b[1;32m     86\u001b[0m seg_x \u001b[39m=\u001b[39m F\u001b[39m.\u001b[39mrelu(\u001b[39mself\u001b[39m\u001b[39m.\u001b[39mbatchnorm6(\u001b[39mself\u001b[39m\u001b[39m.\u001b[39mconv6(seg_x)))\n",
            "File \u001b[0;32m~/opt/anaconda3/envs/pnet-part-seg/lib/python3.9/site-packages/torch/nn/modules/module.py:1501\u001b[0m, in \u001b[0;36mModule._call_impl\u001b[0;34m(self, *args, **kwargs)\u001b[0m\n\u001b[1;32m   1496\u001b[0m \u001b[39m# If we don't have any hooks, we want to skip the rest of the logic in\u001b[39;00m\n\u001b[1;32m   1497\u001b[0m \u001b[39m# this function, and just call forward.\u001b[39;00m\n\u001b[1;32m   1498\u001b[0m \u001b[39mif\u001b[39;00m \u001b[39mnot\u001b[39;00m (\u001b[39mself\u001b[39m\u001b[39m.\u001b[39m_backward_hooks \u001b[39mor\u001b[39;00m \u001b[39mself\u001b[39m\u001b[39m.\u001b[39m_backward_pre_hooks \u001b[39mor\u001b[39;00m \u001b[39mself\u001b[39m\u001b[39m.\u001b[39m_forward_hooks \u001b[39mor\u001b[39;00m \u001b[39mself\u001b[39m\u001b[39m.\u001b[39m_forward_pre_hooks\n\u001b[1;32m   1499\u001b[0m         \u001b[39mor\u001b[39;00m _global_backward_pre_hooks \u001b[39mor\u001b[39;00m _global_backward_hooks\n\u001b[1;32m   1500\u001b[0m         \u001b[39mor\u001b[39;00m _global_forward_hooks \u001b[39mor\u001b[39;00m _global_forward_pre_hooks):\n\u001b[0;32m-> 1501\u001b[0m     \u001b[39mreturn\u001b[39;00m forward_call(\u001b[39m*\u001b[39;49margs, \u001b[39m*\u001b[39;49m\u001b[39m*\u001b[39;49mkwargs)\n\u001b[1;32m   1502\u001b[0m \u001b[39m# Do not call functions when jit is used\u001b[39;00m\n\u001b[1;32m   1503\u001b[0m full_backward_hooks, non_full_backward_hooks \u001b[39m=\u001b[39m [], []\n",
            "File \u001b[0;32m~/opt/anaconda3/envs/pnet-part-seg/lib/python3.9/site-packages/torch/nn/modules/conv.py:313\u001b[0m, in \u001b[0;36mConv1d.forward\u001b[0;34m(self, input)\u001b[0m\n\u001b[1;32m    312\u001b[0m \u001b[39mdef\u001b[39;00m \u001b[39mforward\u001b[39m(\u001b[39mself\u001b[39m, \u001b[39minput\u001b[39m: Tensor) \u001b[39m-\u001b[39m\u001b[39m>\u001b[39m Tensor:\n\u001b[0;32m--> 313\u001b[0m     \u001b[39mreturn\u001b[39;00m \u001b[39mself\u001b[39;49m\u001b[39m.\u001b[39;49m_conv_forward(\u001b[39minput\u001b[39;49m, \u001b[39mself\u001b[39;49m\u001b[39m.\u001b[39;49mweight, \u001b[39mself\u001b[39;49m\u001b[39m.\u001b[39;49mbias)\n",
            "File \u001b[0;32m~/opt/anaconda3/envs/pnet-part-seg/lib/python3.9/site-packages/torch/nn/modules/conv.py:309\u001b[0m, in \u001b[0;36mConv1d._conv_forward\u001b[0;34m(self, input, weight, bias)\u001b[0m\n\u001b[1;32m    305\u001b[0m \u001b[39mif\u001b[39;00m \u001b[39mself\u001b[39m\u001b[39m.\u001b[39mpadding_mode \u001b[39m!=\u001b[39m \u001b[39m'\u001b[39m\u001b[39mzeros\u001b[39m\u001b[39m'\u001b[39m:\n\u001b[1;32m    306\u001b[0m     \u001b[39mreturn\u001b[39;00m F\u001b[39m.\u001b[39mconv1d(F\u001b[39m.\u001b[39mpad(\u001b[39minput\u001b[39m, \u001b[39mself\u001b[39m\u001b[39m.\u001b[39m_reversed_padding_repeated_twice, mode\u001b[39m=\u001b[39m\u001b[39mself\u001b[39m\u001b[39m.\u001b[39mpadding_mode),\n\u001b[1;32m    307\u001b[0m                     weight, bias, \u001b[39mself\u001b[39m\u001b[39m.\u001b[39mstride,\n\u001b[1;32m    308\u001b[0m                     _single(\u001b[39m0\u001b[39m), \u001b[39mself\u001b[39m\u001b[39m.\u001b[39mdilation, \u001b[39mself\u001b[39m\u001b[39m.\u001b[39mgroups)\n\u001b[0;32m--> 309\u001b[0m \u001b[39mreturn\u001b[39;00m F\u001b[39m.\u001b[39;49mconv1d(\u001b[39minput\u001b[39;49m, weight, bias, \u001b[39mself\u001b[39;49m\u001b[39m.\u001b[39;49mstride,\n\u001b[1;32m    310\u001b[0m                 \u001b[39mself\u001b[39;49m\u001b[39m.\u001b[39;49mpadding, \u001b[39mself\u001b[39;49m\u001b[39m.\u001b[39;49mdilation, \u001b[39mself\u001b[39;49m\u001b[39m.\u001b[39;49mgroups)\n",
            "\u001b[0;31mKeyboardInterrupt\u001b[0m: "
          ]
        }
      ],
      "source": [
        "train(train_dl, max_epochs=MAX_EPOCHS, acc_req=ACC_REQ, lr=LR, reg_strength=REG_STRENGTH)"
      ]
    }
  ],
  "metadata": {
    "colab": {
      "gpuType": "T4",
      "provenance": []
    },
    "gpuClass": "standard",
    "kernelspec": {
      "display_name": "pnet-part-seg",
      "language": "python",
      "name": "python3"
    },
    "language_info": {
      "codemirror_mode": {
        "name": "ipython",
        "version": 3
      },
      "file_extension": ".py",
      "mimetype": "text/x-python",
      "name": "python",
      "nbconvert_exporter": "python",
      "pygments_lexer": "ipython3",
      "version": "3.9.16"
    },
    "orig_nbformat": 4
  },
  "nbformat": 4,
  "nbformat_minor": 0
}
